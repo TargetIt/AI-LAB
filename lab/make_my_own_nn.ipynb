{
 "cells": [
  {
   "cell_type": "markdown",
   "metadata": {},
   "source": [
    "# A Three Layer Example with Matrix Multiplication"
   ]
  },
  {
   "cell_type": "markdown",
   "metadata": {},
   "source": [
    "## FEEDFORWARD"
   ]
  },
  {
   "cell_type": "markdown",
   "metadata": {},
   "source": [
    "### data type"
   ]
  },
  {
   "cell_type": "markdown",
   "metadata": {},
   "source": [
    "\n",
    "$I \\in \\mathbb{R}^{3\\times1}$, $X_{hidden} \\in \\mathbb {R}^{3\\times1}$, $O_{hidden} \\in \\mathbb {R}^{3\\times1}$ , $X_{output} \\in \\mathbb {R}^{3\\times1}$ , $O_{output} \\in \\mathbb {R}^{3\\times1}$  \n",
    "$W_{input\\_hidden} \\in \\mathbb{R}^{3\\times3}$, $W_{hidden\\_output} \\in \\mathbb{R}^{3\\times3}$  \n"
   ]
  },
  {
   "cell_type": "markdown",
   "metadata": {},
   "source": [
    "### process"
   ]
  },
  {
   "cell_type": "markdown",
   "metadata": {},
   "source": [
    "$X_{hidden} = W_{input\\_hidden} \\circ I$  \n",
    "$O_{hidden} = sigmoid(X_{hidden})$  \n",
    "$X_{output} = W_{hidden\\_output} \\circ O_{hidden}$  \n",
    "$O_{output} = sigmoid(X_{output})$"
   ]
  },
  {
   "cell_type": "markdown",
   "metadata": {},
   "source": [
    "# Backpropagating Errors From More Output Nodes"
   ]
  },
  {
   "cell_type": "markdown",
   "metadata": {},
   "source": [
    "## BACKFORWARD"
   ]
  },
  {
   "cell_type": "markdown",
   "metadata": {},
   "source": [
    "** an example of 2x2 network **  \n",
    "\n",
    "$e_{hidden,1}$   \n",
    "= sum of split errors on links $w_{11}$ and $w_{12}$  \n",
    "= $e_{output,1}$ * $\\frac {w_{11}} {w_{11}+w_{21}}$ + $e_{output,2}$ * $\\frac {w_{12}} {w_{12}+w_{22}}$"
   ]
  },
  {
   "cell_type": "markdown",
   "metadata": {},
   "source": [
    "** $error_{hidden} = W^{T}_{hidden\\_output} \\circ error_{output}$ **"
   ]
  },
  {
   "cell_type": "markdown",
   "metadata": {},
   "source": [
    "# How Do We Actually Update Weights ?"
   ]
  },
  {
   "cell_type": "markdown",
   "metadata": {},
   "source": [
    "## Gradient"
   ]
  },
  {
   "cell_type": "markdown",
   "metadata": {},
   "source": [
    "\n",
    "\n",
    "$$\\frac {\\partial E} {\\partial w_{jk}}$$  \n",
    "$$\\frac {\\partial} {\\partial w_{jk}}  \\sum_n (t_n - o_n)^2$$  \n"
   ]
  },
  {
   "cell_type": "markdown",
   "metadata": {},
   "source": [
    "$$\\frac {\\partial E} {\\partial w_{jk}} = \\frac {\\partial} {\\partial w_{jk}} (t_k - o_k)^2 $$  \n",
    "$$\\frac {\\partial E} {\\partial w_{jk}} = \\frac {\\partial E} {\\partial o_k} \\cdot \\frac {\\partial o_k} {\\partial w_{jk}}$$  \n",
    "$$\\frac {\\partial E} {\\partial w_{jk}} = -2(t_k-o_k) \\cdot \\frac {\\partial o_k} {\\partial w_{jk}}$$  \n",
    "$$\\frac {\\partial E} {\\partial w_{jk}} = -2(t_k - o_k) \\cdot \\frac {\\partial} {\\partial w_{jk}} sigmoid(\\sum_j w_{jk} \\cdot o_j)$$  \n",
    "$$\\frac {\\partial E} {\\partial w_{jk}} = -2(t_k - o_k) \\cdot sigmoid(\\sum_j w_{jk} \\cdot o_j) (1-sigmoid(\\sum_j w_{jk} \\cdot o_j)) \\frac {\\partial} {\\partial w_{jk}} (\\sum_j w_{jk} \\cdot o_j)$$  \n",
    "$$\\frac {\\partial E} {\\partial w_{jk}} = -2(t_k - o_k) \\cdot sigmoid(\\sum_j w_{jk} \\cdot o_j) (1-sigmoid(\\sum_j w_{jk} \\cdot o_j)) \\cdot  o_j$$  "
   ]
  },
  {
   "cell_type": "markdown",
   "metadata": {},
   "source": [
    "$$ new \\ w_{jk}  = old \\ w_{jk} - \\alpha \\cdot \\frac {\\partial E} {\\partial w_{jk}} $$"
   ]
  },
  {
   "cell_type": "markdown",
   "metadata": {},
   "source": [
    "$$\\Delta W_{jk} = \\alpha \\ * \\ * \\ sigmoid(O_k) \\ * \\ (1-sigmoid(O_K)) \\cdot O_j$$"
   ]
  }
 ],
 "metadata": {
  "kernelspec": {
   "display_name": "Python 2",
   "language": "python",
   "name": "python2"
  },
  "language_info": {
   "codemirror_mode": {
    "name": "ipython",
    "version": 2
   },
   "file_extension": ".py",
   "mimetype": "text/x-python",
   "name": "python",
   "nbconvert_exporter": "python",
   "pygments_lexer": "ipython2",
   "version": "2.7.13"
  }
 },
 "nbformat": 4,
 "nbformat_minor": 2
}
