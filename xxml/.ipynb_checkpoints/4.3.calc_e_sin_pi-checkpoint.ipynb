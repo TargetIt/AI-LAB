{
 "cells": [
  {
   "cell_type": "code",
   "execution_count": 8,
   "metadata": {
    "collapsed": true
   },
   "outputs": [],
   "source": [
    "#!/usr/bin/python\n",
    "#  -*- coding:utf-8 -*-\n",
    "\n",
    "import numpy as np\n",
    "import math\n",
    "import matplotlib as mpl\n",
    "import matplotlib.pyplot as plt"
   ]
  },
  {
   "cell_type": "markdown",
   "metadata": {},
   "source": [
    "# calc e"
   ]
  },
  {
   "cell_type": "code",
   "execution_count": 15,
   "metadata": {},
   "outputs": [
    {
     "data": {
      "text/plain": [
       "array([ 1,  2,  6, 24])"
      ]
     },
     "execution_count": 15,
     "metadata": {},
     "output_type": "execute_result"
    }
   ],
   "source": [
    "# 阶乘/factorial\n",
    "np.arange(1,5).cumprod()"
   ]
  },
  {
   "cell_type": "code",
   "execution_count": 16,
   "metadata": {},
   "outputs": [
    {
     "data": {
      "text/plain": [
       "array([ 3,  9, 27, 81])"
      ]
     },
     "execution_count": 16,
     "metadata": {},
     "output_type": "execute_result"
    }
   ],
   "source": [
    "# 等比\n",
    "np.array([3]*4).cumprod()"
   ]
  },
  {
   "cell_type": "code",
   "execution_count": 4,
   "metadata": {},
   "outputs": [
    {
     "name": "stdout",
     "output_type": "stream",
     "text": [
      "[-2.         -1.8        -1.6        -1.4        -1.2        -1.         -0.8\n",
      " -0.6        -0.4        -0.2         0.          0.21052632  0.42105263\n",
      "  0.63157895  0.84210526  1.05263158  1.26315789  1.47368421  1.68421053\n",
      "  1.89473684  2.10526316  2.31578947  2.52631579  2.73684211  2.94736842\n",
      "  3.15789474  3.36842105  3.57894737  3.78947368  4.        ]\n",
      "e^ -2.0  =  0.135335283237 (近似值)\t0.135335283237 (真实值)\n",
      "e^ -1.8  =  0.165298888222 (近似值)\t0.165298888222 (真实值)\n",
      "e^ -1.6  =  0.201896517995 (近似值)\t0.201896517995 (真实值)\n",
      "e^ -1.4  =  0.246596963942 (近似值)\t0.246596963942 (真实值)\n",
      "e^ -1.2  =  0.301194211912 (近似值)\t0.301194211912 (真实值)\n",
      "e^ -1.0  =  0.367879441171 (近似值)\t0.367879441171 (真实值)\n",
      "e^ -0.8  =  0.449328964117 (近似值)\t0.449328964117 (真实值)\n",
      "e^ -0.6  =  0.548811636094 (近似值)\t0.548811636094 (真实值)\n",
      "e^ -0.4  =  0.670320046036 (近似值)\t0.670320046036 (真实值)\n",
      "e^ -0.2  =  0.818730753078 (近似值)\t0.818730753078 (真实值)\n",
      "e^ 0.0  =  1.0 (近似值)\t1.0 (真实值)\n",
      "e^ 0.210526315789  =  1.2343275351 (近似值)\t1.2343275351 (真实值)\n",
      "e^ 0.421052631579  =  1.5235644639 (近似值)\t1.5235644639 (真实值)\n",
      "e^ 0.631578947368  =  1.88057756929 (近似值)\t1.88057756929 (真实值)\n",
      "e^ 0.842105263158  =  2.32124867566 (近似值)\t2.32124867566 (真实值)\n",
      "e^ 1.05263157895  =  2.86518115618 (近似值)\t2.86518115618 (真实值)\n",
      "e^ 1.26315789474  =  3.53657199412 (近似值)\t3.53657199412 (真实值)\n",
      "e^ 1.47368421053  =  4.3652881922 (近似值)\t4.3652881922 (真实值)\n",
      "e^ 1.68421052632  =  5.38819541428 (近似值)\t5.38819541428 (真实值)\n",
      "e^ 1.89473684211  =  6.65079796433 (近似值)\t6.65079796433 (真实值)\n",
      "e^ 2.10526315789  =  8.20926305775 (近似值)\t8.20926305775 (真实值)\n",
      "e^ 2.31578947368  =  10.132919435 (近似值)\t10.132919435 (真实值)\n",
      "e^ 2.52631578947  =  12.5073414696 (近似值)\t12.5073414696 (真实值)\n",
      "e^ 2.73684210526  =  15.4381559668 (近似值)\t15.4381559668 (真实值)\n",
      "e^ 2.94736842105  =  19.055741001 (近似值)\t19.055741001 (真实值)\n",
      "e^ 3.15789473684  =  23.5210258192 (近似值)\t23.5210258192 (真实值)\n",
      "e^ 3.36842105263  =  29.0326498224 (近似值)\t29.0326498224 (真实值)\n",
      "e^ 3.57894736842  =  35.8357990927 (近似值)\t35.8357990927 (真实值)\n",
      "e^ 3.78947368421  =  44.2331135623 (近似值)\t44.2331135624 (真实值)\n",
      "e^ 4.0  =  54.5981500331 (近似值)\t54.5981500331 (真实值)\n"
     ]
    },
    {
     "data": {
      "image/png": "[encoded data removed]",
      "text/plain": [
       "<matplotlib.figure.Figure at 0x5d5f0f0>"
      ]
     },
     "metadata": {},
     "output_type": "display_data"
    }
   ],
   "source": [
    "\n",
    "def calc_e_small(x):\n",
    "    n = 10\n",
    "    f = np.arange(1, n+1).cumprod()\n",
    "    b = np.array([x]*n).cumprod()\n",
    "    return np.sum(b / f) + 1\n",
    "\n",
    "\n",
    "def calc_e(x):\n",
    "    reverse = False\n",
    "    if x < 0:   # 处理负数\n",
    "        x = -x\n",
    "        reverse = True\n",
    "    ln2 = 0.69314718055994530941723212145818\n",
    "    c = x / ln2\n",
    "    a = int(c+0.5)\n",
    "    b = x - a*ln2\n",
    "    y = (2 ** a) * calc_e_small(b)\n",
    "    if reverse:\n",
    "        return 1/y\n",
    "    return y\n",
    "\n",
    "\n",
    "if __name__ == \"__main__\":\n",
    "    t1 = np.linspace(-2, 0, 10, endpoint=False)\n",
    "    t2 = np.linspace(0, 4, 20)\n",
    "    t = np.concatenate((t1, t2))\n",
    "    print t     # 横轴数据\n",
    "    y = np.empty_like(t)\n",
    "    for i, x in enumerate(t):\n",
    "        y[i] = calc_e(x)\n",
    "        print 'e^', x, ' = ', y[i], '(近似值)\\t', math.exp(x), '(真实值)'\n",
    "        # print '误差：', y[i] - math.exp(x)\n",
    "    plt.figure(facecolor='w')\n",
    "    mpl.rcParams['font.sans-serif'] = [u'SimHei']\n",
    "    mpl.rcParams['axes.unicode_minus'] = False\n",
    "    plt.plot(t, y, 'r-', t, y, 'go', linewidth=2)\n",
    "    plt.title(u'Taylor展式的应用 - 指数函数', fontsize=18)\n",
    "    plt.xlabel('X', fontsize=15)\n",
    "    plt.ylabel('exp(X)', fontsize=15)\n",
    "    plt.grid(True, ls=':')\n",
    "    plt.show()\n"
   ]
  },
  {
   "cell_type": "markdown",
   "metadata": {},
   "source": [
    "# calc sin"
   ]
  },
  {
   "cell_type": "code",
   "execution_count": 5,
   "metadata": {},
   "outputs": [
    {
     "name": "stdout",
     "output_type": "stream",
     "text": [
      "[ -6.28318531e+00  -6.15752160e+00  -6.03185789e+00  -5.90619419e+00\n",
      "  -5.78053048e+00  -5.65486678e+00  -5.52920307e+00  -5.40353936e+00\n",
      "  -5.27787566e+00  -5.15221195e+00  -5.02654825e+00  -4.90088454e+00\n",
      "  -4.77522083e+00  -4.64955713e+00  -4.52389342e+00  -4.39822972e+00\n",
      "  -4.27256601e+00  -4.14690230e+00  -4.02123860e+00  -3.89557489e+00\n",
      "  -3.76991118e+00  -3.64424748e+00  -3.51858377e+00  -3.39292007e+00\n",
      "  -3.26725636e+00  -3.14159265e+00  -3.01592895e+00  -2.89026524e+00\n",
      "  -2.76460154e+00  -2.63893783e+00  -2.51327412e+00  -2.38761042e+00\n",
      "  -2.26194671e+00  -2.13628300e+00  -2.01061930e+00  -1.88495559e+00\n",
      "  -1.75929189e+00  -1.63362818e+00  -1.50796447e+00  -1.38230077e+00\n",
      "  -1.25663706e+00  -1.13097336e+00  -1.00530965e+00  -8.79645943e-01\n",
      "  -7.53982237e-01  -6.28318531e-01  -5.02654825e-01  -3.76991118e-01\n",
      "  -2.51327412e-01  -1.25663706e-01   8.88178420e-16   1.25663706e-01\n",
      "   2.51327412e-01   3.76991118e-01   5.02654825e-01   6.28318531e-01\n",
      "   7.53982237e-01   8.79645943e-01   1.00530965e+00   1.13097336e+00\n",
      "   1.25663706e+00   1.38230077e+00   1.50796447e+00   1.63362818e+00\n",
      "   1.75929189e+00   1.88495559e+00   2.01061930e+00   2.13628300e+00\n",
      "   2.26194671e+00   2.38761042e+00   2.51327412e+00   2.63893783e+00\n",
      "   2.76460154e+00   2.89026524e+00   3.01592895e+00   3.14159265e+00\n",
      "   3.26725636e+00   3.39292007e+00   3.51858377e+00   3.64424748e+00\n",
      "   3.76991118e+00   3.89557489e+00   4.02123860e+00   4.14690230e+00\n",
      "   4.27256601e+00   4.39822972e+00   4.52389342e+00   4.64955713e+00\n",
      "   4.77522083e+00   4.90088454e+00   5.02654825e+00   5.15221195e+00\n",
      "   5.27787566e+00   5.40353936e+00   5.52920307e+00   5.65486678e+00\n",
      "   5.78053048e+00   5.90619419e+00   6.03185789e+00   6.15752160e+00]\n",
      "sin( -6.28318530718 ) =  0.0 (近似值)\t2.44929359829e-16 (真实值)\n",
      "sin( -6.15752160104 ) =  0.125333233564 (近似值)\t0.125333233564 (真实值)\n",
      "sin( -6.03185789489 ) =  0.248689887165 (近似值)\t0.248689887165 (真实值)\n",
      "sin( -5.90619418875 ) =  0.368124552685 (近似值)\t0.368124552685 (真实值)\n",
      "sin( -5.78053048261 ) =  0.481753674102 (近似值)\t0.481753674102 (真实值)\n",
      "sin( -5.65486677646 ) =  0.587785252292 (近似值)\t0.587785252292 (真实值)\n",
      "sin( -5.52920307032 ) =  0.684547105929 (近似值)\t0.684547105929 (真实值)\n",
      "sin( -5.40353936417 ) =  0.770513242776 (近似值)\t0.770513242776 (真实值)\n",
      "sin( -5.27787565803 ) =  0.844327925502 (近似值)\t0.844327925502 (真实值)\n",
      "sin( -5.15221195189 ) =  0.904827052466 (近似值)\t0.904827052466 (真实值)\n",
      "sin( -5.02654824574 ) =  0.951056516295 (近似值)\t0.951056516295 (真实值)\n",
      "sin( -4.9008845396 ) =  0.982287250729 (近似值)\t0.982287250729 (真实值)\n",
      "sin( -4.77522083346 ) =  0.998026728428 (近似值)\t0.998026728428 (真实值)\n",
      "sin( -4.64955712731 ) =  0.998026728428 (近似值)\t0.998026728428 (真实值)\n",
      "sin( -4.52389342117 ) =  0.982287250729 (近似值)\t0.982287250729 (真实值)\n",
      "sin( -4.39822971503 ) =  0.951056516295 (近似值)\t0.951056516295 (真实值)\n",
      "sin( -4.27256600888 ) =  0.904827052466 (近似值)\t0.904827052466 (真实值)\n",
      "sin( -4.14690230274 ) =  0.844327925502 (近似值)\t0.844327925502 (真实值)\n",
      "sin( -4.02123859659 ) =  0.770513242775 (近似值)\t0.770513242776 (真实值)\n",
      "sin( -3.89557489045 ) =  0.684547105927 (近似值)\t0.684547105929 (真实值)\n",
      "sin( -3.76991118431 ) =  0.587785252288 (近似值)\t0.587785252292 (真实值)\n",
      "sin( -3.64424747816 ) =  0.481753674088 (近似值)\t0.481753674102 (真实值)\n",
      "sin( -3.51858377202 ) =  0.368124552648 (近似值)\t0.368124552685 (真实值)\n",
      "sin( -3.39292006588 ) =  0.248689887073 (近似值)\t0.248689887165 (真实值)\n",
      "sin( -3.26725635973 ) =  0.12533323334 (近似值)\t0.125333233564 (真实值)\n",
      "sin( -3.14159265359 ) =  -5.2891910557e-10 (近似值)\t-5.66553889765e-16 (真实值)\n",
      "sin( -3.01592894745 ) =  -0.125333234768 (近似值)\t-0.125333233564 (真实值)\n",
      "sin( -2.8902652413 ) =  -0.248689889819 (近似值)\t-0.248689887165 (真实值)\n",
      "sin( -2.76460153516 ) =  -0.368124558371 (近似值)\t-0.368124552685 (真实值)\n",
      "sin( -2.63893782902 ) =  -0.481753685963 (近似值)\t-0.481753674102 (真实值)\n",
      "sin( -2.51327412287 ) =  -0.587785276421 (近似值)\t-0.587785252292 (真实值)\n",
      "sin( -2.38761041673 ) =  -0.684547153876 (近似值)\t-0.684547105929 (真实值)\n",
      "sin( -2.26194671058 ) =  -0.770513335991 (近似值)\t-0.770513242776 (真实值)\n",
      "sin( -2.13628300444 ) =  -0.84432810303 (近似值)\t-0.844327925502 (真实值)\n",
      "sin( -2.0106192983 ) =  -0.904827384089 (近似值)\t-0.904827052466 (真实值)\n",
      "sin( -1.88495559215 ) =  -0.951057124577 (近似值)\t-0.951056516295 (真实值)\n",
      "sin( -1.75929188601 ) =  -0.982288347438 (近似值)\t-0.982287250729 (真实值)\n",
      "sin( -1.63362817987 ) =  -0.998028673849 (近似值)\t-0.998026728428 (真实值)\n",
      "sin( -1.50796447372 ) =  -0.998030126608 (近似值)\t-0.998026728428 (真实值)\n",
      "sin( -1.38230076758 ) =  -0.982293100467 (近似值)\t-0.982287250729 (真实值)\n",
      "sin( -1.25663706144 ) =  -0.951066447544 (近似值)\t-0.951056516295 (真实值)\n",
      "sin( -1.13097335529 ) =  -0.904843692145 (近似值)\t-0.904827052466 (真实值)\n",
      "sin( -1.00530964915 ) =  -0.844355457307 (近似值)\t-0.844327925502 (真实值)\n",
      "sin( -0.879645943005 ) =  -0.770558254809 (近似值)\t-0.770513242776 (真实值)\n",
      "sin( -0.753982236862 ) =  -0.684619861245 (近似值)\t-0.684547105929 (真实值)\n",
      "sin( -0.628318530718 ) =  -0.587901575106 (近似值)\t-0.587785252292 (真实值)\n",
      "sin( -0.502654824574 ) =  -0.481937724358 (近似值)\t-0.481753674102 (真实值)\n",
      "sin( -0.376991118431 ) =  -0.368412871668 (近似值)\t-0.368124552685 (真实值)\n",
      "sin( -0.251327412287 ) =  -0.249137247033 (近似值)\t-0.248689887165 (真实值)\n",
      "sin( -0.125663706144 ) =  -0.126021027336 (近似值)\t-0.125333233564 (真实值)\n",
      "sin( 8.881784197e-16 ) =  8.881784197e-16 (近似值)\t8.881784197e-16 (真实值)\n",
      "sin( 0.125663706144 ) =  0.125333233564 (近似值)\t0.125333233564 (真实值)\n",
      "sin( 0.251327412287 ) =  0.248689887165 (近似值)\t0.248689887165 (真实值)\n",
      "sin( 0.376991118431 ) =  0.368124552685 (近似值)\t0.368124552685 (真实值)\n",
      "sin( 0.502654824574 ) =  0.481753674102 (近似值)\t0.481753674102 (真实值)\n",
      "sin( 0.628318530718 ) =  0.587785252292 (近似值)\t0.587785252292 (真实值)\n",
      "sin( 0.753982236862 ) =  0.684547105929 (近似值)\t0.684547105929 (真实值)\n",
      "sin( 0.879645943005 ) =  0.770513242776 (近似值)\t0.770513242776 (真实值)\n",
      "sin( 1.00530964915 ) =  0.844327925502 (近似值)\t0.844327925502 (真实值)\n",
      "sin( 1.13097335529 ) =  0.904827052466 (近似值)\t0.904827052466 (真实值)\n",
      "sin( 1.25663706144 ) =  0.951056516295 (近似值)\t0.951056516295 (真实值)\n",
      "sin( 1.38230076758 ) =  0.982287250729 (近似值)\t0.982287250729 (真实值)\n",
      "sin( 1.50796447372 ) =  0.998026728428 (近似值)\t0.998026728428 (真实值)\n",
      "sin( 1.63362817987 ) =  0.998026728428 (近似值)\t0.998026728428 (真实值)\n",
      "sin( 1.75929188601 ) =  0.982287250729 (近似值)\t0.982287250729 (真实值)\n",
      "sin( 1.88495559215 ) =  0.951056516295 (近似值)\t0.951056516295 (真实值)\n",
      "sin( 2.0106192983 ) =  0.904827052466 (近似值)\t0.904827052466 (真实值)\n",
      "sin( 2.13628300444 ) =  0.844327925502 (近似值)\t0.844327925502 (真实值)\n",
      "sin( 2.26194671058 ) =  0.770513242775 (近似值)\t0.770513242776 (真实值)\n",
      "sin( 2.38761041673 ) =  0.684547105927 (近似值)\t0.684547105929 (真实值)\n",
      "sin( 2.51327412287 ) =  0.587785252288 (近似值)\t0.587785252292 (真实值)\n",
      "sin( 2.63893782902 ) =  0.481753674088 (近似值)\t0.481753674102 (真实值)\n",
      "sin( 2.76460153516 ) =  0.368124552648 (近似值)\t0.368124552685 (真实值)\n",
      "sin( 2.8902652413 ) =  0.248689887073 (近似值)\t0.248689887165 (真实值)\n",
      "sin( 3.01592894745 ) =  0.12533323334 (近似值)\t0.125333233564 (真实值)\n",
      "sin( 3.14159265359 ) =  -5.28918267297e-10 (近似值)\t1.22464679915e-16 (真实值)\n",
      "sin( 3.26725635973 ) =  -0.125333234768 (近似值)\t-0.125333233564 (真实值)\n",
      "sin( 3.39292006588 ) =  -0.248689889819 (近似值)\t-0.248689887165 (真实值)\n",
      "sin( 3.51858377202 ) =  -0.368124558371 (近似值)\t-0.368124552685 (真实值)\n",
      "sin( 3.64424747816 ) =  -0.481753685963 (近似值)\t-0.481753674102 (真实值)\n",
      "sin( 3.76991118431 ) =  -0.587785276421 (近似值)\t-0.587785252292 (真实值)\n",
      "sin( 3.89557489045 ) =  -0.684547153876 (近似值)\t-0.684547105929 (真实值)\n",
      "sin( 4.02123859659 ) =  -0.770513335991 (近似值)\t-0.770513242776 (真实值)\n",
      "sin( 4.14690230274 ) =  -0.84432810303 (近似值)\t-0.844327925502 (真实值)\n",
      "sin( 4.27256600888 ) =  -0.904827384089 (近似值)\t-0.904827052466 (真实值)\n",
      "sin( 4.39822971503 ) =  -0.951057124577 (近似值)\t-0.951056516295 (真实值)\n",
      "sin( 4.52389342117 ) =  -0.982288347438 (近似值)\t-0.982287250729 (真实值)\n",
      "sin( 4.64955712731 ) =  -0.998028673849 (近似值)\t-0.998026728428 (真实值)\n",
      "sin( 4.77522083346 ) =  -0.998030126608 (近似值)\t-0.998026728428 (真实值)\n",
      "sin( 4.9008845396 ) =  -0.982293100467 (近似值)\t-0.982287250729 (真实值)\n",
      "sin( 5.02654824574 ) =  -0.951066447544 (近似值)\t-0.951056516295 (真实值)\n",
      "sin( 5.15221195189 ) =  -0.904843692145 (近似值)\t-0.904827052466 (真实值)\n",
      "sin( 5.27787565803 ) =  -0.844355457307 (近似值)\t-0.844327925502 (真实值)\n",
      "sin( 5.40353936417 ) =  -0.770558254809 (近似值)\t-0.770513242776 (真实值)\n",
      "sin( 5.52920307032 ) =  -0.684619861245 (近似值)\t-0.684547105929 (真实值)\n",
      "sin( 5.65486677646 ) =  -0.587901575106 (近似值)\t-0.587785252292 (真实值)\n",
      "sin( 5.78053048261 ) =  -0.481937724358 (近似值)\t-0.481753674102 (真实值)\n",
      "sin( 5.90619418875 ) =  -0.368412871668 (近似值)\t-0.368124552685 (真实值)\n",
      "sin( 6.03185789489 ) =  -0.249137247033 (近似值)\t-0.248689887165 (真实值)\n",
      "sin( 6.15752160104 ) =  -0.126021027336 (近似值)\t-0.125333233564 (真实值)\n"
     ]
    },
    {
     "data": {
      "image/png": "[encoded data removed]",
      "text/plain": [
       "<matplotlib.figure.Figure at 0x7f70518>"
      ]
     },
     "metadata": {},
     "output_type": "display_data"
    }
   ],
   "source": [
    "def calc_sin_small(x):\n",
    "    x2 = -x ** 2\n",
    "    t = x\n",
    "    f = 1\n",
    "    sum = 0\n",
    "    for i in range(10):\n",
    "        sum += t / f\n",
    "        t *= x2\n",
    "        f *= ((2*i+2)*(2*i+3))\n",
    "    return sum\n",
    "\n",
    "\n",
    "def calc_sin(x):\n",
    "    a = x / (2*np.pi)\n",
    "    k = np.floor(a)\n",
    "    a = x - k*2*np.pi\n",
    "    return calc_sin_small(a)\n",
    "\n",
    "\n",
    "if __name__ == \"__main__\":\n",
    "    t = np.linspace(-2*np.pi, 2*np.pi, 100, endpoint=False)\n",
    "    print t     # 横轴数据\n",
    "    y = np.empty_like(t)\n",
    "    for i, x in enumerate(t):\n",
    "        y[i] = calc_sin(x)\n",
    "        print 'sin(', x, ') = ', y[i], '(近似值)\\t', math.sin(x), '(真实值)'\n",
    "        # print '误差：', y[i] - math.sin(x)\n",
    "    mpl.rcParams['font.sans-serif'] = [u'SimHei']\n",
    "    mpl.rcParams['axes.unicode_minus'] = False\n",
    "    plt.figure(facecolor='w')\n",
    "    plt.plot(t, y, 'r-', t, y, 'go', linewidth=2)\n",
    "    plt.title(u'Taylor展式的应用 - 正弦函数', fontsize=18)\n",
    "    plt.xlabel('X', fontsize=15)\n",
    "    plt.ylabel('sin(X)', fontsize=15)\n",
    "    plt.xlim((-7, 7))\n",
    "    plt.ylim((-1.1, 1.1))\n",
    "    plt.grid(True)\n",
    "    plt.show()\n"
   ]
  },
  {
   "cell_type": "markdown",
   "metadata": {},
   "source": [
    "# calc pi"
   ]
  },
  {
   "cell_type": "code",
   "execution_count": 6,
   "metadata": {},
   "outputs": [
    {
     "name": "stdout",
     "output_type": "stream",
     "text": [
      "3.14158310423\n"
     ]
    }
   ],
   "source": [
    "if __name__ == '__main__':\n",
    "    print np.sqrt(6 * np.sum(1 / np.arange(1, 100000, dtype=np.float) ** 2))\n"
   ]
  }
 ],
 "metadata": {
  "kernelspec": {
   "display_name": "Python 2",
   "language": "python",
   "name": "python2"
  },
  "language_info": {
   "codemirror_mode": {
    "name": "ipython",
    "version": 2
   },
   "file_extension": ".py",
   "mimetype": "text/x-python",
   "name": "python",
   "nbconvert_exporter": "python",
   "pygments_lexer": "ipython2",
   "version": "2.7.13"
  }
 },
 "nbformat": 4,
 "nbformat_minor": 2
}
