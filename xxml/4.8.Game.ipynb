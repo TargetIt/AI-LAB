{
 "cells": [
  {
   "cell_type": "code",
   "execution_count": 2,
   "metadata": {},
   "outputs": [],
   "source": [
    "#!/usr/bin/python\n",
    "# -*- coding:utf-8 -*-\n",
    "\n",
    "import numpy as np\n",
    "from scipy import special\n",
    "\n"
   ]
  },
  {
   "cell_type": "markdown",
   "metadata": {},
   "source": [
    "* 问题：乒乓球比赛，参赛者为A,B两方，若对任何一球，A方赢得概率都是60%，则对11分制，A获胜的概率有多大？"
   ]
  },
  {
   "cell_type": "code",
   "execution_count": 5,
   "metadata": {},
   "outputs": [
    {
     "name": "stdout",
     "output_type": "stream",
     "text": [
      "0.836416\n"
     ]
    }
   ],
   "source": [
    "if __name__ == '__main__':\n",
    "    method = 'simulation'\n",
    "\n",
    "    # 1.暴力模拟\n",
    "    if method == 'simulation':\n",
    "        p = 0.6\n",
    "        a, b, c = 0, 0, 0\n",
    "        t, T = 0, 1000000\n",
    "        while t < T:\n",
    "            a = b = 0\n",
    "            while (a <= 11) and (b <= 11):\n",
    "                if np.random.uniform() < p:\n",
    "                    a += 1\n",
    "                else:\n",
    "                    b += 1\n",
    "            if a > b:\n",
    "                c += 1\n",
    "            t += 1\n",
    "        print float(c) / float(T)\n",
    "    # 2.直接计算\n",
    "    elif method == 'simple':\n",
    "        answer = 0\n",
    "        p = 0.836435199842     # 每分的胜率\n",
    "        N = 3      # 每局多少分\n",
    "        for x in np.arange(N):  # x为对手得分\n",
    "            answer += special.comb(N + x - 1, x) * ((1-p) ** x) * (p ** N)\n",
    "        print answer\n",
    "    # 3.严格计算\n",
    "    else:\n",
    "        answer = 0\n",
    "        p = 0.6  # 每分的胜率\n",
    "        N = 11  # 每局多少分\n",
    "        for x in np.arange(N-1):  # x为对手得分：11:9  11:8  11:7  11:6...\n",
    "            answer += special.comb(N + x - 1, x) * ((1 - p) ** x) * (p ** N)\n",
    "        p10 = special.comb(2*(N-1), N-1) * ((1-p)*p) ** (N-1)   # 10:10的概率\n",
    "        t = 0\n",
    "        for n in np.arange(100):    # {XO}(0,)|OO   思考：可以如何简化？\n",
    "            t += (2*p*(1-p)) ** n * p * p\n",
    "        answer += p10 * t\n",
    "        print answer\n"
   ]
  }
 ],
 "metadata": {
  "kernelspec": {
   "display_name": "Python 2",
   "language": "python",
   "name": "python2"
  },
  "language_info": {
   "codemirror_mode": {
    "name": "ipython",
    "version": 2
   },
   "file_extension": ".py",
   "mimetype": "text/x-python",
   "name": "python",
   "nbconvert_exporter": "python",
   "pygments_lexer": "ipython2",
   "version": "2.7.13"
  }
 },
 "nbformat": 4,
 "nbformat_minor": 2
}
